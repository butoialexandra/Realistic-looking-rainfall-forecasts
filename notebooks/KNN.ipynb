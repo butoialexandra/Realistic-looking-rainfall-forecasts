{
 "cells": [
  {
   "cell_type": "code",
   "execution_count": 15,
   "metadata": {},
   "outputs": [],
   "source": [
    "import sys\n",
    "print(sys.version)\n",
    "\n",
    "import matplotlib.pyplot as plt\n",
    "import sklearn.metrics\n",
    "import properscoring as ps\n",
    "base_dir = \"/mnt/ds3lab-scratch/bhendj/data\"\n",
    "on_cluster = True"
   ]
  },
  {
   "cell_type": "code",
   "execution_count": 7,
   "metadata": {},
   "outputs": [],
   "source": [
    "import xarray as xr\n",
    "import os\n",
    "\n",
    "if on_cluster:\n",
    "    path = os.path.join(base_dir, \"combiprecip\", \"combiprecip_201805.nc\")\n",
    "else:\n",
    "    path = \"./combiprecip_201805.nc\"\n",
    "\n",
    "weather = xr.open_mfdataset(path, combine='by_coords')"
   ]
  },
  {
   "cell_type": "code",
   "execution_count": 16,
   "metadata": {},
   "outputs": [
    {
     "name": "stderr",
     "output_type": "stream",
     "text": [
      "/home/mzilinec/.local/lib/python3.6/site-packages/ipykernel_launcher.py:16: DeprecationWarning: This function is deprecated. See: https://pyproj4.github.io/pyproj/stable/gotchas.html#upgrading-to-pyproj-2-from-pyproj-1\n",
      "  app.launch_new_instance()\n"
     ]
    }
   ],
   "source": [
    "import xarray as xr\n",
    "import pyproj\n",
    "\n",
    "if on_cluster:\n",
    "    path = os.path.join(base_dir, \"cosmoe\", \"data.zarr\", \"data_ethz.zarr\")\n",
    "else:\n",
    "    path = \"./cosmoe_prec_201805.zarr\"\n",
    "\n",
    "cosmo = xr.open_zarr(path)\n",
    "\n",
    "# Transform to the other coordinate system\n",
    "src_proj = pyproj.Proj(\"EPSG:4326\") # WSG84\n",
    "dst_proj = pyproj.Proj(\"EPSG:21781\") # CH1903 / LV03 \n",
    "src_x = cosmo.lon.values\n",
    "src_y = cosmo.lat.values\n",
    "dst_x, dst_y = pyproj.transform(src_proj, dst_proj, src_x, src_y, always_xy=True)\n",
    "cosmo = cosmo.assign_coords({\"chx\": ((\"y\", \"x\"), dst_x) , \"chy\": ((\"y\", \"x\"), dst_y)})\n"
   ]
  },
  {
   "cell_type": "code",
   "execution_count": 30,
   "metadata": {},
   "outputs": [
    {
     "name": "stdout",
     "output_type": "stream",
     "text": [
      "2018-05-01T01:00:00.000000000\n"
     ]
    }
   ],
   "source": [
    "# Actual weather: (710, 640)\n",
    "# Let's set this to 2018-05-01T01:00:00 (time=0)\n",
    "weather_point = weather.isel(time=0, dummy=0)\n",
    "target_time = weather_point['time'].values\n",
    "#weather?\n",
    "print(target_time)"
   ]
  },
  {
   "cell_type": "code",
   "execution_count": 41,
   "metadata": {},
   "outputs": [
    {
     "data": {
      "text/html": [
       "<div><svg style=\"position: absolute; width: 0; height: 0; overflow: hidden\">\n",
       "<defs>\n",
       "<symbol id=\"icon-database\" viewBox=\"0 0 32 32\">\n",
       "<path d=\"M16 0c-8.837 0-16 2.239-16 5v4c0 2.761 7.163 5 16 5s16-2.239 16-5v-4c0-2.761-7.163-5-16-5z\"></path>\n",
       "<path d=\"M16 17c-8.837 0-16-2.239-16-5v6c0 2.761 7.163 5 16 5s16-2.239 16-5v-6c0 2.761-7.163 5-16 5z\"></path>\n",
       "<path d=\"M16 26c-8.837 0-16-2.239-16-5v6c0 2.761 7.163 5 16 5s16-2.239 16-5v-6c0 2.761-7.163 5-16 5z\"></path>\n",
       "</symbol>\n",
       "<symbol id=\"icon-file-text2\" viewBox=\"0 0 32 32\">\n",
       "<path d=\"M28.681 7.159c-0.694-0.947-1.662-2.053-2.724-3.116s-2.169-2.030-3.116-2.724c-1.612-1.182-2.393-1.319-2.841-1.319h-15.5c-1.378 0-2.5 1.121-2.5 2.5v27c0 1.378 1.122 2.5 2.5 2.5h23c1.378 0 2.5-1.122 2.5-2.5v-19.5c0-0.448-0.137-1.23-1.319-2.841zM24.543 5.457c0.959 0.959 1.712 1.825 2.268 2.543h-4.811v-4.811c0.718 0.556 1.584 1.309 2.543 2.268zM28 29.5c0 0.271-0.229 0.5-0.5 0.5h-23c-0.271 0-0.5-0.229-0.5-0.5v-27c0-0.271 0.229-0.5 0.5-0.5 0 0 15.499-0 15.5 0v7c0 0.552 0.448 1 1 1h7v19.5z\"></path>\n",
       "<path d=\"M23 26h-14c-0.552 0-1-0.448-1-1s0.448-1 1-1h14c0.552 0 1 0.448 1 1s-0.448 1-1 1z\"></path>\n",
       "<path d=\"M23 22h-14c-0.552 0-1-0.448-1-1s0.448-1 1-1h14c0.552 0 1 0.448 1 1s-0.448 1-1 1z\"></path>\n",
       "<path d=\"M23 18h-14c-0.552 0-1-0.448-1-1s0.448-1 1-1h14c0.552 0 1 0.448 1 1s-0.448 1-1 1z\"></path>\n",
       "</symbol>\n",
       "</defs>\n",
       "</svg>\n",
       "<style>/* CSS stylesheet for displaying xarray objects in jupyterlab.\n",
       " *\n",
       " */\n",
       "\n",
       ":root {\n",
       "  --xr-font-color0: var(--jp-content-font-color0, rgba(0, 0, 0, 1));\n",
       "  --xr-font-color2: var(--jp-content-font-color2, rgba(0, 0, 0, 0.54));\n",
       "  --xr-font-color3: var(--jp-content-font-color3, rgba(0, 0, 0, 0.38));\n",
       "  --xr-border-color: var(--jp-border-color2, #e0e0e0);\n",
       "  --xr-disabled-color: var(--jp-layout-color3, #bdbdbd);\n",
       "  --xr-background-color: var(--jp-layout-color0, white);\n",
       "  --xr-background-color-row-even: var(--jp-layout-color1, white);\n",
       "  --xr-background-color-row-odd: var(--jp-layout-color2, #eeeeee);\n",
       "}\n",
       "\n",
       "html[theme=dark],\n",
       "body.vscode-dark {\n",
       "  --xr-font-color0: rgba(255, 255, 255, 1);\n",
       "  --xr-font-color2: rgba(255, 255, 255, 0.54);\n",
       "  --xr-font-color3: rgba(255, 255, 255, 0.38);\n",
       "  --xr-border-color: #1F1F1F;\n",
       "  --xr-disabled-color: #515151;\n",
       "  --xr-background-color: #111111;\n",
       "  --xr-background-color-row-even: #111111;\n",
       "  --xr-background-color-row-odd: #313131;\n",
       "}\n",
       "\n",
       ".xr-wrap {\n",
       "  display: block;\n",
       "  min-width: 300px;\n",
       "  max-width: 700px;\n",
       "}\n",
       "\n",
       ".xr-text-repr-fallback {\n",
       "  /* fallback to plain text repr when CSS is not injected (untrusted notebook) */\n",
       "  display: none;\n",
       "}\n",
       "\n",
       ".xr-header {\n",
       "  padding-top: 6px;\n",
       "  padding-bottom: 6px;\n",
       "  margin-bottom: 4px;\n",
       "  border-bottom: solid 1px var(--xr-border-color);\n",
       "}\n",
       "\n",
       ".xr-header > div,\n",
       ".xr-header > ul {\n",
       "  display: inline;\n",
       "  margin-top: 0;\n",
       "  margin-bottom: 0;\n",
       "}\n",
       "\n",
       ".xr-obj-type,\n",
       ".xr-array-name {\n",
       "  margin-left: 2px;\n",
       "  margin-right: 10px;\n",
       "}\n",
       "\n",
       ".xr-obj-type {\n",
       "  color: var(--xr-font-color2);\n",
       "}\n",
       "\n",
       ".xr-sections {\n",
       "  padding-left: 0 !important;\n",
       "  display: grid;\n",
       "  grid-template-columns: 150px auto auto 1fr 20px 20px;\n",
       "}\n",
       "\n",
       ".xr-section-item {\n",
       "  display: contents;\n",
       "}\n",
       "\n",
       ".xr-section-item input {\n",
       "  display: none;\n",
       "}\n",
       "\n",
       ".xr-section-item input + label {\n",
       "  color: var(--xr-disabled-color);\n",
       "}\n",
       "\n",
       ".xr-section-item input:enabled + label {\n",
       "  cursor: pointer;\n",
       "  color: var(--xr-font-color2);\n",
       "}\n",
       "\n",
       ".xr-section-item input:enabled + label:hover {\n",
       "  color: var(--xr-font-color0);\n",
       "}\n",
       "\n",
       ".xr-section-summary {\n",
       "  grid-column: 1;\n",
       "  color: var(--xr-font-color2);\n",
       "  font-weight: 500;\n",
       "}\n",
       "\n",
       ".xr-section-summary > span {\n",
       "  display: inline-block;\n",
       "  padding-left: 0.5em;\n",
       "}\n",
       "\n",
       ".xr-section-summary-in:disabled + label {\n",
       "  color: var(--xr-font-color2);\n",
       "}\n",
       "\n",
       ".xr-section-summary-in + label:before {\n",
       "  display: inline-block;\n",
       "  content: '►';\n",
       "  font-size: 11px;\n",
       "  width: 15px;\n",
       "  text-align: center;\n",
       "}\n",
       "\n",
       ".xr-section-summary-in:disabled + label:before {\n",
       "  color: var(--xr-disabled-color);\n",
       "}\n",
       "\n",
       ".xr-section-summary-in:checked + label:before {\n",
       "  content: '▼';\n",
       "}\n",
       "\n",
       ".xr-section-summary-in:checked + label > span {\n",
       "  display: none;\n",
       "}\n",
       "\n",
       ".xr-section-summary,\n",
       ".xr-section-inline-details {\n",
       "  padding-top: 4px;\n",
       "  padding-bottom: 4px;\n",
       "}\n",
       "\n",
       ".xr-section-inline-details {\n",
       "  grid-column: 2 / -1;\n",
       "}\n",
       "\n",
       ".xr-section-details {\n",
       "  display: none;\n",
       "  grid-column: 1 / -1;\n",
       "  margin-bottom: 5px;\n",
       "}\n",
       "\n",
       ".xr-section-summary-in:checked ~ .xr-section-details {\n",
       "  display: contents;\n",
       "}\n",
       "\n",
       ".xr-array-wrap {\n",
       "  grid-column: 1 / -1;\n",
       "  display: grid;\n",
       "  grid-template-columns: 20px auto;\n",
       "}\n",
       "\n",
       ".xr-array-wrap > label {\n",
       "  grid-column: 1;\n",
       "  vertical-align: top;\n",
       "}\n",
       "\n",
       ".xr-preview {\n",
       "  color: var(--xr-font-color3);\n",
       "}\n",
       "\n",
       ".xr-array-preview,\n",
       ".xr-array-data {\n",
       "  padding: 0 5px !important;\n",
       "  grid-column: 2;\n",
       "}\n",
       "\n",
       ".xr-array-data,\n",
       ".xr-array-in:checked ~ .xr-array-preview {\n",
       "  display: none;\n",
       "}\n",
       "\n",
       ".xr-array-in:checked ~ .xr-array-data,\n",
       ".xr-array-preview {\n",
       "  display: inline-block;\n",
       "}\n",
       "\n",
       ".xr-dim-list {\n",
       "  display: inline-block !important;\n",
       "  list-style: none;\n",
       "  padding: 0 !important;\n",
       "  margin: 0;\n",
       "}\n",
       "\n",
       ".xr-dim-list li {\n",
       "  display: inline-block;\n",
       "  padding: 0;\n",
       "  margin: 0;\n",
       "}\n",
       "\n",
       ".xr-dim-list:before {\n",
       "  content: '(';\n",
       "}\n",
       "\n",
       ".xr-dim-list:after {\n",
       "  content: ')';\n",
       "}\n",
       "\n",
       ".xr-dim-list li:not(:last-child):after {\n",
       "  content: ',';\n",
       "  padding-right: 5px;\n",
       "}\n",
       "\n",
       ".xr-has-index {\n",
       "  font-weight: bold;\n",
       "}\n",
       "\n",
       ".xr-var-list,\n",
       ".xr-var-item {\n",
       "  display: contents;\n",
       "}\n",
       "\n",
       ".xr-var-item > div,\n",
       ".xr-var-item label,\n",
       ".xr-var-item > .xr-var-name span {\n",
       "  background-color: var(--xr-background-color-row-even);\n",
       "  margin-bottom: 0;\n",
       "}\n",
       "\n",
       ".xr-var-item > .xr-var-name:hover span {\n",
       "  padding-right: 5px;\n",
       "}\n",
       "\n",
       ".xr-var-list > li:nth-child(odd) > div,\n",
       ".xr-var-list > li:nth-child(odd) > label,\n",
       ".xr-var-list > li:nth-child(odd) > .xr-var-name span {\n",
       "  background-color: var(--xr-background-color-row-odd);\n",
       "}\n",
       "\n",
       ".xr-var-name {\n",
       "  grid-column: 1;\n",
       "}\n",
       "\n",
       ".xr-var-dims {\n",
       "  grid-column: 2;\n",
       "}\n",
       "\n",
       ".xr-var-dtype {\n",
       "  grid-column: 3;\n",
       "  text-align: right;\n",
       "  color: var(--xr-font-color2);\n",
       "}\n",
       "\n",
       ".xr-var-preview {\n",
       "  grid-column: 4;\n",
       "}\n",
       "\n",
       ".xr-var-name,\n",
       ".xr-var-dims,\n",
       ".xr-var-dtype,\n",
       ".xr-preview,\n",
       ".xr-attrs dt {\n",
       "  white-space: nowrap;\n",
       "  overflow: hidden;\n",
       "  text-overflow: ellipsis;\n",
       "  padding-right: 10px;\n",
       "}\n",
       "\n",
       ".xr-var-name:hover,\n",
       ".xr-var-dims:hover,\n",
       ".xr-var-dtype:hover,\n",
       ".xr-attrs dt:hover {\n",
       "  overflow: visible;\n",
       "  width: auto;\n",
       "  z-index: 1;\n",
       "}\n",
       "\n",
       ".xr-var-attrs,\n",
       ".xr-var-data {\n",
       "  display: none;\n",
       "  background-color: var(--xr-background-color) !important;\n",
       "  padding-bottom: 5px !important;\n",
       "}\n",
       "\n",
       ".xr-var-attrs-in:checked ~ .xr-var-attrs,\n",
       ".xr-var-data-in:checked ~ .xr-var-data {\n",
       "  display: block;\n",
       "}\n",
       "\n",
       ".xr-var-data > table {\n",
       "  float: right;\n",
       "}\n",
       "\n",
       ".xr-var-name span,\n",
       ".xr-var-data,\n",
       ".xr-attrs {\n",
       "  padding-left: 25px !important;\n",
       "}\n",
       "\n",
       ".xr-attrs,\n",
       ".xr-var-attrs,\n",
       ".xr-var-data {\n",
       "  grid-column: 1 / -1;\n",
       "}\n",
       "\n",
       "dl.xr-attrs {\n",
       "  padding: 0;\n",
       "  margin: 0;\n",
       "  display: grid;\n",
       "  grid-template-columns: 125px auto;\n",
       "}\n",
       "\n",
       ".xr-attrs dt, dd {\n",
       "  padding: 0;\n",
       "  margin: 0;\n",
       "  float: left;\n",
       "  padding-right: 10px;\n",
       "  width: auto;\n",
       "}\n",
       "\n",
       ".xr-attrs dt {\n",
       "  font-weight: normal;\n",
       "  grid-column: 1;\n",
       "}\n",
       "\n",
       ".xr-attrs dt:hover span {\n",
       "  display: inline-block;\n",
       "  background: var(--xr-background-color);\n",
       "  padding-right: 10px;\n",
       "}\n",
       "\n",
       ".xr-attrs dd {\n",
       "  grid-column: 2;\n",
       "  white-space: pre-wrap;\n",
       "  word-break: break-all;\n",
       "}\n",
       "\n",
       ".xr-icon-database,\n",
       ".xr-icon-file-text2 {\n",
       "  display: inline-block;\n",
       "  vertical-align: middle;\n",
       "  width: 1em;\n",
       "  height: 1.5em !important;\n",
       "  stroke-width: 0;\n",
       "  stroke: currentColor;\n",
       "  fill: currentColor;\n",
       "}\n",
       "</style><pre class='xr-text-repr-fallback'>&lt;xarray.Dataset&gt;\n",
       "Dimensions:   (member: 21, x: 188, y: 127)\n",
       "Coordinates:\n",
       "    lat       (y, x) float32 dask.array&lt;chunksize=(127, 188), meta=np.ndarray&gt;\n",
       "    leadtime  timedelta64[ns] 01:00:00\n",
       "    lon       (y, x) float32 dask.array&lt;chunksize=(127, 188), meta=np.ndarray&gt;\n",
       "  * member    (member) int32 0 1 2 3 4 5 6 7 8 9 ... 12 13 14 15 16 17 18 19 20\n",
       "    reftime   datetime64[ns] 2018-05-01\n",
       "  * x         (x) int64 0 1 2 3 4 5 6 7 8 ... 180 181 182 183 184 185 186 187\n",
       "  * y         (y) int64 0 1 2 3 4 5 6 7 8 ... 119 120 121 122 123 124 125 126\n",
       "    chx       (y, x) float64 4.5e+05 4.522e+05 4.544e+05 ... 8.554e+05 8.577e+05\n",
       "    chy       (y, x) float64 3.944e+04 3.951e+04 3.958e+04 ... 3.33e+05 3.33e+05\n",
       "Data variables:\n",
       "    PREC      (member, y, x) float32 dask.array&lt;chunksize=(21, 127, 188), meta=np.ndarray&gt;\n",
       "    T_2M      (member, y, x) float32 dask.array&lt;chunksize=(21, 127, 188), meta=np.ndarray&gt;</pre><div class='xr-wrap' hidden><div class='xr-header'><div class='xr-obj-type'>xarray.Dataset</div></div><ul class='xr-sections'><li class='xr-section-item'><input id='section-8831c2b2-37e9-4494-84e0-6022a3380367' class='xr-section-summary-in' type='checkbox' disabled ><label for='section-8831c2b2-37e9-4494-84e0-6022a3380367' class='xr-section-summary'  title='Expand/collapse section'>Dimensions:</label><div class='xr-section-inline-details'><ul class='xr-dim-list'><li><span class='xr-has-index'>member</span>: 21</li><li><span class='xr-has-index'>x</span>: 188</li><li><span class='xr-has-index'>y</span>: 127</li></ul></div><div class='xr-section-details'></div></li><li class='xr-section-item'><input id='section-3f4d45a8-38b8-4841-947e-1ef5ead83cad' class='xr-section-summary-in' type='checkbox'  checked><label for='section-3f4d45a8-38b8-4841-947e-1ef5ead83cad' class='xr-section-summary' >Coordinates: <span>(9)</span></label><div class='xr-section-inline-details'></div><div class='xr-section-details'><ul class='xr-var-list'><li class='xr-var-item'><div class='xr-var-name'><span>lat</span></div><div class='xr-var-dims'>(y, x)</div><div class='xr-var-dtype'>float32</div><div class='xr-var-preview xr-preview'>dask.array&lt;chunksize=(127, 188), meta=np.ndarray&gt;</div><input id='attrs-d5ecdd1f-5cbe-4fc0-8870-5a864f4ea320' class='xr-var-attrs-in' type='checkbox' ><label for='attrs-d5ecdd1f-5cbe-4fc0-8870-5a864f4ea320' title='Show/Hide attributes'><svg class='icon xr-icon-file-text2'><use xlink:href='#icon-file-text2'></use></svg></label><input id='data-abb7fee7-58de-4705-9233-fdfc739d3155' class='xr-var-data-in' type='checkbox'><label for='data-abb7fee7-58de-4705-9233-fdfc739d3155' title='Show/Hide data repr'><svg class='icon xr-icon-database'><use xlink:href='#icon-database'></use></svg></label><div class='xr-var-attrs'><dl class='xr-attrs'><dt><span>long_name :</span></dt><dd>latitude</dd><dt><span>standard_name :</span></dt><dd>latitude</dd><dt><span>units :</span></dt><dd>degrees_north</dd></dl></div><div class='xr-var-data'><table>\n",
       "<tr>\n",
       "<td>\n",
       "<table>\n",
       "  <thead>\n",
       "    <tr><td> </td><th> Array </th><th> Chunk </th></tr>\n",
       "  </thead>\n",
       "  <tbody>\n",
       "    <tr><th> Bytes </th><td> 95.50 kB </td> <td> 95.50 kB </td></tr>\n",
       "    <tr><th> Shape </th><td> (127, 188) </td> <td> (127, 188) </td></tr>\n",
       "    <tr><th> Count </th><td> 2 Tasks </td><td> 1 Chunks </td></tr>\n",
       "    <tr><th> Type </th><td> float32 </td><td> numpy.ndarray </td></tr>\n",
       "  </tbody>\n",
       "</table>\n",
       "</td>\n",
       "<td>\n",
       "<svg width=\"170\" height=\"131\" style=\"stroke:rgb(0,0,0);stroke-width:1\" >\n",
       "\n",
       "  <!-- Horizontal lines -->\n",
       "  <line x1=\"0\" y1=\"0\" x2=\"120\" y2=\"0\" style=\"stroke-width:2\" />\n",
       "  <line x1=\"0\" y1=\"81\" x2=\"120\" y2=\"81\" style=\"stroke-width:2\" />\n",
       "\n",
       "  <!-- Vertical lines -->\n",
       "  <line x1=\"0\" y1=\"0\" x2=\"0\" y2=\"81\" style=\"stroke-width:2\" />\n",
       "  <line x1=\"120\" y1=\"0\" x2=\"120\" y2=\"81\" style=\"stroke-width:2\" />\n",
       "\n",
       "  <!-- Colored Rectangle -->\n",
       "  <polygon points=\"0.0,0.0 120.0,0.0 120.0,81.06382978723404 0.0,81.06382978723404\" style=\"fill:#ECB172A0;stroke-width:0\"/>\n",
       "\n",
       "  <!-- Text -->\n",
       "  <text x=\"60.000000\" y=\"101.063830\" font-size=\"1.0rem\" font-weight=\"100\" text-anchor=\"middle\" >188</text>\n",
       "  <text x=\"140.000000\" y=\"40.531915\" font-size=\"1.0rem\" font-weight=\"100\" text-anchor=\"middle\" transform=\"rotate(-90,140.000000,40.531915)\">127</text>\n",
       "</svg>\n",
       "</td>\n",
       "</tr>\n",
       "</table></div></li><li class='xr-var-item'><div class='xr-var-name'><span>leadtime</span></div><div class='xr-var-dims'>()</div><div class='xr-var-dtype'>timedelta64[ns]</div><div class='xr-var-preview xr-preview'>01:00:00</div><input id='attrs-5caac9f1-9fe6-4d44-8183-3262419f9aee' class='xr-var-attrs-in' type='checkbox' disabled><label for='attrs-5caac9f1-9fe6-4d44-8183-3262419f9aee' title='Show/Hide attributes'><svg class='icon xr-icon-file-text2'><use xlink:href='#icon-file-text2'></use></svg></label><input id='data-933de72f-3d82-4624-b8f4-3c95621fc312' class='xr-var-data-in' type='checkbox'><label for='data-933de72f-3d82-4624-b8f4-3c95621fc312' title='Show/Hide data repr'><svg class='icon xr-icon-database'><use xlink:href='#icon-database'></use></svg></label><div class='xr-var-attrs'><dl class='xr-attrs'></dl></div><div class='xr-var-data'><pre>array(3600000000000, dtype=&#x27;timedelta64[ns]&#x27;)</pre></div></li><li class='xr-var-item'><div class='xr-var-name'><span>lon</span></div><div class='xr-var-dims'>(y, x)</div><div class='xr-var-dtype'>float32</div><div class='xr-var-preview xr-preview'>dask.array&lt;chunksize=(127, 188), meta=np.ndarray&gt;</div><input id='attrs-a9953f89-c8e7-4004-89a5-dbb87d4f5ef4' class='xr-var-attrs-in' type='checkbox' ><label for='attrs-a9953f89-c8e7-4004-89a5-dbb87d4f5ef4' title='Show/Hide attributes'><svg class='icon xr-icon-file-text2'><use xlink:href='#icon-file-text2'></use></svg></label><input id='data-4eac9048-eeaf-44e9-ac3a-b73790bfc953' class='xr-var-data-in' type='checkbox'><label for='data-4eac9048-eeaf-44e9-ac3a-b73790bfc953' title='Show/Hide data repr'><svg class='icon xr-icon-database'><use xlink:href='#icon-database'></use></svg></label><div class='xr-var-attrs'><dl class='xr-attrs'><dt><span>long_name :</span></dt><dd>longitude</dd><dt><span>standard_name :</span></dt><dd>longitude</dd><dt><span>units :</span></dt><dd>degrees_east</dd></dl></div><div class='xr-var-data'><table>\n",
       "<tr>\n",
       "<td>\n",
       "<table>\n",
       "  <thead>\n",
       "    <tr><td> </td><th> Array </th><th> Chunk </th></tr>\n",
       "  </thead>\n",
       "  <tbody>\n",
       "    <tr><th> Bytes </th><td> 95.50 kB </td> <td> 95.50 kB </td></tr>\n",
       "    <tr><th> Shape </th><td> (127, 188) </td> <td> (127, 188) </td></tr>\n",
       "    <tr><th> Count </th><td> 2 Tasks </td><td> 1 Chunks </td></tr>\n",
       "    <tr><th> Type </th><td> float32 </td><td> numpy.ndarray </td></tr>\n",
       "  </tbody>\n",
       "</table>\n",
       "</td>\n",
       "<td>\n",
       "<svg width=\"170\" height=\"131\" style=\"stroke:rgb(0,0,0);stroke-width:1\" >\n",
       "\n",
       "  <!-- Horizontal lines -->\n",
       "  <line x1=\"0\" y1=\"0\" x2=\"120\" y2=\"0\" style=\"stroke-width:2\" />\n",
       "  <line x1=\"0\" y1=\"81\" x2=\"120\" y2=\"81\" style=\"stroke-width:2\" />\n",
       "\n",
       "  <!-- Vertical lines -->\n",
       "  <line x1=\"0\" y1=\"0\" x2=\"0\" y2=\"81\" style=\"stroke-width:2\" />\n",
       "  <line x1=\"120\" y1=\"0\" x2=\"120\" y2=\"81\" style=\"stroke-width:2\" />\n",
       "\n",
       "  <!-- Colored Rectangle -->\n",
       "  <polygon points=\"0.0,0.0 120.0,0.0 120.0,81.06382978723404 0.0,81.06382978723404\" style=\"fill:#ECB172A0;stroke-width:0\"/>\n",
       "\n",
       "  <!-- Text -->\n",
       "  <text x=\"60.000000\" y=\"101.063830\" font-size=\"1.0rem\" font-weight=\"100\" text-anchor=\"middle\" >188</text>\n",
       "  <text x=\"140.000000\" y=\"40.531915\" font-size=\"1.0rem\" font-weight=\"100\" text-anchor=\"middle\" transform=\"rotate(-90,140.000000,40.531915)\">127</text>\n",
       "</svg>\n",
       "</td>\n",
       "</tr>\n",
       "</table></div></li><li class='xr-var-item'><div class='xr-var-name'><span class='xr-has-index'>member</span></div><div class='xr-var-dims'>(member)</div><div class='xr-var-dtype'>int32</div><div class='xr-var-preview xr-preview'>0 1 2 3 4 5 6 ... 15 16 17 18 19 20</div><input id='attrs-39f6fd19-d01b-49ed-9ea6-aa33731e2859' class='xr-var-attrs-in' type='checkbox' ><label for='attrs-39f6fd19-d01b-49ed-9ea6-aa33731e2859' title='Show/Hide attributes'><svg class='icon xr-icon-file-text2'><use xlink:href='#icon-file-text2'></use></svg></label><input id='data-651c20eb-57fc-4011-9e56-fa6d54762e7b' class='xr-var-data-in' type='checkbox'><label for='data-651c20eb-57fc-4011-9e56-fa6d54762e7b' title='Show/Hide data repr'><svg class='icon xr-icon-database'><use xlink:href='#icon-database'></use></svg></label><div class='xr-var-attrs'><dl class='xr-attrs'><dt><span>ensemble_size :</span></dt><dd>21</dd><dt><span>long_name :</span></dt><dd>Perturbation number of EPS system</dd></dl></div><div class='xr-var-data'><pre>array([ 0,  1,  2,  3,  4,  5,  6,  7,  8,  9, 10, 11, 12, 13, 14, 15, 16, 17,\n",
       "       18, 19, 20], dtype=int32)</pre></div></li><li class='xr-var-item'><div class='xr-var-name'><span>reftime</span></div><div class='xr-var-dims'>()</div><div class='xr-var-dtype'>datetime64[ns]</div><div class='xr-var-preview xr-preview'>2018-05-01</div><input id='attrs-f3d9f374-5a91-47cd-bfd7-1f47cd58121b' class='xr-var-attrs-in' type='checkbox' ><label for='attrs-f3d9f374-5a91-47cd-bfd7-1f47cd58121b' title='Show/Hide attributes'><svg class='icon xr-icon-file-text2'><use xlink:href='#icon-file-text2'></use></svg></label><input id='data-48b06609-509b-4863-a5a1-4a2234952f2e' class='xr-var-data-in' type='checkbox'><label for='data-48b06609-509b-4863-a5a1-4a2234952f2e' title='Show/Hide data repr'><svg class='icon xr-icon-database'><use xlink:href='#icon-database'></use></svg></label><div class='xr-var-attrs'><dl class='xr-attrs'><dt><span>long_name :</span></dt><dd>time</dd><dt><span>standard_name :</span></dt><dd>time</dd></dl></div><div class='xr-var-data'><pre>array(&#x27;2018-05-01T00:00:00.000000000&#x27;, dtype=&#x27;datetime64[ns]&#x27;)</pre></div></li><li class='xr-var-item'><div class='xr-var-name'><span class='xr-has-index'>x</span></div><div class='xr-var-dims'>(x)</div><div class='xr-var-dtype'>int64</div><div class='xr-var-preview xr-preview'>0 1 2 3 4 5 ... 183 184 185 186 187</div><input id='attrs-e68271aa-91e5-4d3b-b8aa-d46a0b5cfe5b' class='xr-var-attrs-in' type='checkbox' disabled><label for='attrs-e68271aa-91e5-4d3b-b8aa-d46a0b5cfe5b' title='Show/Hide attributes'><svg class='icon xr-icon-file-text2'><use xlink:href='#icon-file-text2'></use></svg></label><input id='data-411519d3-c8d7-4955-8d99-40927cb1168c' class='xr-var-data-in' type='checkbox'><label for='data-411519d3-c8d7-4955-8d99-40927cb1168c' title='Show/Hide data repr'><svg class='icon xr-icon-database'><use xlink:href='#icon-database'></use></svg></label><div class='xr-var-attrs'><dl class='xr-attrs'></dl></div><div class='xr-var-data'><pre>array([  0,   1,   2,   3,   4,   5,   6,   7,   8,   9,  10,  11,  12,  13,\n",
       "        14,  15,  16,  17,  18,  19,  20,  21,  22,  23,  24,  25,  26,  27,\n",
       "        28,  29,  30,  31,  32,  33,  34,  35,  36,  37,  38,  39,  40,  41,\n",
       "        42,  43,  44,  45,  46,  47,  48,  49,  50,  51,  52,  53,  54,  55,\n",
       "        56,  57,  58,  59,  60,  61,  62,  63,  64,  65,  66,  67,  68,  69,\n",
       "        70,  71,  72,  73,  74,  75,  76,  77,  78,  79,  80,  81,  82,  83,\n",
       "        84,  85,  86,  87,  88,  89,  90,  91,  92,  93,  94,  95,  96,  97,\n",
       "        98,  99, 100, 101, 102, 103, 104, 105, 106, 107, 108, 109, 110, 111,\n",
       "       112, 113, 114, 115, 116, 117, 118, 119, 120, 121, 122, 123, 124, 125,\n",
       "       126, 127, 128, 129, 130, 131, 132, 133, 134, 135, 136, 137, 138, 139,\n",
       "       140, 141, 142, 143, 144, 145, 146, 147, 148, 149, 150, 151, 152, 153,\n",
       "       154, 155, 156, 157, 158, 159, 160, 161, 162, 163, 164, 165, 166, 167,\n",
       "       168, 169, 170, 171, 172, 173, 174, 175, 176, 177, 178, 179, 180, 181,\n",
       "       182, 183, 184, 185, 186, 187])</pre></div></li><li class='xr-var-item'><div class='xr-var-name'><span class='xr-has-index'>y</span></div><div class='xr-var-dims'>(y)</div><div class='xr-var-dtype'>int64</div><div class='xr-var-preview xr-preview'>0 1 2 3 4 5 ... 122 123 124 125 126</div><input id='attrs-789780b3-d8c8-4978-bf50-31fd72038975' class='xr-var-attrs-in' type='checkbox' disabled><label for='attrs-789780b3-d8c8-4978-bf50-31fd72038975' title='Show/Hide attributes'><svg class='icon xr-icon-file-text2'><use xlink:href='#icon-file-text2'></use></svg></label><input id='data-de34ef09-5d37-47a5-a634-5a8b1061cf45' class='xr-var-data-in' type='checkbox'><label for='data-de34ef09-5d37-47a5-a634-5a8b1061cf45' title='Show/Hide data repr'><svg class='icon xr-icon-database'><use xlink:href='#icon-database'></use></svg></label><div class='xr-var-attrs'><dl class='xr-attrs'></dl></div><div class='xr-var-data'><pre>array([  0,   1,   2,   3,   4,   5,   6,   7,   8,   9,  10,  11,  12,  13,\n",
       "        14,  15,  16,  17,  18,  19,  20,  21,  22,  23,  24,  25,  26,  27,\n",
       "        28,  29,  30,  31,  32,  33,  34,  35,  36,  37,  38,  39,  40,  41,\n",
       "        42,  43,  44,  45,  46,  47,  48,  49,  50,  51,  52,  53,  54,  55,\n",
       "        56,  57,  58,  59,  60,  61,  62,  63,  64,  65,  66,  67,  68,  69,\n",
       "        70,  71,  72,  73,  74,  75,  76,  77,  78,  79,  80,  81,  82,  83,\n",
       "        84,  85,  86,  87,  88,  89,  90,  91,  92,  93,  94,  95,  96,  97,\n",
       "        98,  99, 100, 101, 102, 103, 104, 105, 106, 107, 108, 109, 110, 111,\n",
       "       112, 113, 114, 115, 116, 117, 118, 119, 120, 121, 122, 123, 124, 125,\n",
       "       126])</pre></div></li><li class='xr-var-item'><div class='xr-var-name'><span>chx</span></div><div class='xr-var-dims'>(y, x)</div><div class='xr-var-dtype'>float64</div><div class='xr-var-preview xr-preview'>4.5e+05 4.522e+05 ... 8.577e+05</div><input id='attrs-ed8b7876-2a7e-402f-8e76-86f4d626d3d4' class='xr-var-attrs-in' type='checkbox' disabled><label for='attrs-ed8b7876-2a7e-402f-8e76-86f4d626d3d4' title='Show/Hide attributes'><svg class='icon xr-icon-file-text2'><use xlink:href='#icon-file-text2'></use></svg></label><input id='data-86a2627a-a990-42a6-ab57-74dc6954f8c7' class='xr-var-data-in' type='checkbox'><label for='data-86a2627a-a990-42a6-ab57-74dc6954f8c7' title='Show/Hide data repr'><svg class='icon xr-icon-database'><use xlink:href='#icon-database'></use></svg></label><div class='xr-var-attrs'><dl class='xr-attrs'></dl></div><div class='xr-var-data'><pre>array([[449974.33803416, 452205.5472066 , 454433.33648937, ...,\n",
       "        862338.79218558, 864567.74346389, 866796.65658073],\n",
       "       [449901.25697796, 452132.44333542, 454360.25831394, ...,\n",
       "        862266.27839465, 864495.25685705, 866724.1605387 ],\n",
       "       [449828.15581523, 452059.36630064, 454287.1860673 , ...,\n",
       "        862193.76743299, 864422.73599656, 866651.66646537],\n",
       "       ...,\n",
       "       [440914.90550943, 443146.38623578, 445374.47950375, ...,\n",
       "        853349.99827545, 855579.35608519, 857808.80426424],\n",
       "       [440841.83353431, 443073.33691843, 445301.40691206, ...,\n",
       "        853277.4351176 , 855506.86851493, 857736.32124886],\n",
       "       [440768.73307178, 443000.23553344, 445228.32858217, ...,\n",
       "        853204.90475971, 855434.34188108, 857663.79834433]])</pre></div></li><li class='xr-var-item'><div class='xr-var-name'><span>chy</span></div><div class='xr-var-dims'>(y, x)</div><div class='xr-var-dtype'>float64</div><div class='xr-var-preview xr-preview'>3.944e+04 3.951e+04 ... 3.33e+05</div><input id='attrs-b16295fc-7910-45c7-a85e-8a561fff23dd' class='xr-var-attrs-in' type='checkbox' disabled><label for='attrs-b16295fc-7910-45c7-a85e-8a561fff23dd' title='Show/Hide attributes'><svg class='icon xr-icon-file-text2'><use xlink:href='#icon-file-text2'></use></svg></label><input id='data-8f082a7d-90b3-4ea3-9a1f-6eccacb00163' class='xr-var-data-in' type='checkbox'><label for='data-8f082a7d-90b3-4ea3-9a1f-6eccacb00163' title='Show/Hide data repr'><svg class='icon xr-icon-database'><use xlink:href='#icon-database'></use></svg></label><div class='xr-var-attrs'><dl class='xr-attrs'></dl></div><div class='xr-var-data'><pre>array([[ 39435.62025801,  39508.21858979,  39580.43607988, ...,\n",
       "         52883.55568989,  52956.62913863,  53029.24017548],\n",
       "       [ 41657.85616429,  41730.40862447,  41803.00366006, ...,\n",
       "         55106.00517299,  55178.66308342,  55251.70627433],\n",
       "       [ 43880.08377007,  43953.01342201,  44025.13802984, ...,\n",
       "         57328.02057267,  57401.11032519,  57473.73827036],\n",
       "       ...,\n",
       "       [315005.61715509, 315078.19559078, 315150.438938  , ...,\n",
       "        328455.79175552, 328528.68970421, 328601.59363443],\n",
       "       [317228.41725754, 317301.36972007, 317373.56432793, ...,\n",
       "        330678.66813591, 330751.57906421, 330824.49321849],\n",
       "       [319451.66755419, 319524.14586187, 319596.71484317, ...,\n",
       "        332901.99435514, 332974.91515562, 333047.83950682]])</pre></div></li></ul></div></li><li class='xr-section-item'><input id='section-2d603d5b-6266-4bf6-97d8-0c7a0b39083e' class='xr-section-summary-in' type='checkbox'  checked><label for='section-2d603d5b-6266-4bf6-97d8-0c7a0b39083e' class='xr-section-summary' >Data variables: <span>(2)</span></label><div class='xr-section-inline-details'></div><div class='xr-section-details'><ul class='xr-var-list'><li class='xr-var-item'><div class='xr-var-name'><span>PREC</span></div><div class='xr-var-dims'>(member, y, x)</div><div class='xr-var-dtype'>float32</div><div class='xr-var-preview xr-preview'>dask.array&lt;chunksize=(21, 127, 188), meta=np.ndarray&gt;</div><input id='attrs-918e3dff-db25-4807-b8ae-b029e7d24610' class='xr-var-attrs-in' type='checkbox' ><label for='attrs-918e3dff-db25-4807-b8ae-b029e7d24610' title='Show/Hide attributes'><svg class='icon xr-icon-file-text2'><use xlink:href='#icon-file-text2'></use></svg></label><input id='data-e029f173-cc5e-43de-a850-36efad9cc8d7' class='xr-var-data-in' type='checkbox'><label for='data-e029f173-cc5e-43de-a850-36efad9cc8d7' title='Show/Hide data repr'><svg class='icon xr-icon-database'><use xlink:href='#icon-database'></use></svg></label><div class='xr-var-attrs'><dl class='xr-attrs'><dt><span>coordinates :</span></dt><dd>lon_1 lat_1</dd></dl></div><div class='xr-var-data'><table>\n",
       "<tr>\n",
       "<td>\n",
       "<table>\n",
       "  <thead>\n",
       "    <tr><td> </td><th> Array </th><th> Chunk </th></tr>\n",
       "  </thead>\n",
       "  <tbody>\n",
       "    <tr><th> Bytes </th><td> 2.01 MB </td> <td> 2.01 MB </td></tr>\n",
       "    <tr><th> Shape </th><td> (21, 127, 188) </td> <td> (21, 127, 188) </td></tr>\n",
       "    <tr><th> Count </th><td> 9413 Tasks </td><td> 1 Chunks </td></tr>\n",
       "    <tr><th> Type </th><td> float32 </td><td> numpy.ndarray </td></tr>\n",
       "  </tbody>\n",
       "</table>\n",
       "</td>\n",
       "<td>\n",
       "<svg width=\"203\" height=\"154\" style=\"stroke:rgb(0,0,0);stroke-width:1\" >\n",
       "\n",
       "  <!-- Horizontal lines -->\n",
       "  <line x1=\"10\" y1=\"0\" x2=\"33\" y2=\"23\" style=\"stroke-width:2\" />\n",
       "  <line x1=\"10\" y1=\"81\" x2=\"33\" y2=\"104\" style=\"stroke-width:2\" />\n",
       "\n",
       "  <!-- Vertical lines -->\n",
       "  <line x1=\"10\" y1=\"0\" x2=\"10\" y2=\"81\" style=\"stroke-width:2\" />\n",
       "  <line x1=\"33\" y1=\"23\" x2=\"33\" y2=\"104\" style=\"stroke-width:2\" />\n",
       "\n",
       "  <!-- Colored Rectangle -->\n",
       "  <polygon points=\"10.0,0.0 33.0592848042313,23.059284804231293 33.0592848042313,104.12311459146534 10.0,81.06382978723404\" style=\"fill:#ECB172A0;stroke-width:0\"/>\n",
       "\n",
       "  <!-- Horizontal lines -->\n",
       "  <line x1=\"10\" y1=\"0\" x2=\"130\" y2=\"0\" style=\"stroke-width:2\" />\n",
       "  <line x1=\"33\" y1=\"23\" x2=\"153\" y2=\"23\" style=\"stroke-width:2\" />\n",
       "\n",
       "  <!-- Vertical lines -->\n",
       "  <line x1=\"10\" y1=\"0\" x2=\"33\" y2=\"23\" style=\"stroke-width:2\" />\n",
       "  <line x1=\"130\" y1=\"0\" x2=\"153\" y2=\"23\" style=\"stroke-width:2\" />\n",
       "\n",
       "  <!-- Colored Rectangle -->\n",
       "  <polygon points=\"10.0,0.0 130.0,0.0 153.05928480423128,23.059284804231293 33.0592848042313,23.059284804231293\" style=\"fill:#ECB172A0;stroke-width:0\"/>\n",
       "\n",
       "  <!-- Horizontal lines -->\n",
       "  <line x1=\"33\" y1=\"23\" x2=\"153\" y2=\"23\" style=\"stroke-width:2\" />\n",
       "  <line x1=\"33\" y1=\"104\" x2=\"153\" y2=\"104\" style=\"stroke-width:2\" />\n",
       "\n",
       "  <!-- Vertical lines -->\n",
       "  <line x1=\"33\" y1=\"23\" x2=\"33\" y2=\"104\" style=\"stroke-width:2\" />\n",
       "  <line x1=\"153\" y1=\"23\" x2=\"153\" y2=\"104\" style=\"stroke-width:2\" />\n",
       "\n",
       "  <!-- Colored Rectangle -->\n",
       "  <polygon points=\"33.0592848042313,23.059284804231293 153.0592848042313,23.059284804231293 153.0592848042313,104.12311459146534 33.0592848042313,104.12311459146534\" style=\"fill:#ECB172A0;stroke-width:0\"/>\n",
       "\n",
       "  <!-- Text -->\n",
       "  <text x=\"93.059285\" y=\"124.123115\" font-size=\"1.0rem\" font-weight=\"100\" text-anchor=\"middle\" >188</text>\n",
       "  <text x=\"173.059285\" y=\"63.591200\" font-size=\"1.0rem\" font-weight=\"100\" text-anchor=\"middle\" transform=\"rotate(-90,173.059285,63.591200)\">127</text>\n",
       "  <text x=\"11.529642\" y=\"112.593472\" font-size=\"1.0rem\" font-weight=\"100\" text-anchor=\"middle\" transform=\"rotate(45,11.529642,112.593472)\">21</text>\n",
       "</svg>\n",
       "</td>\n",
       "</tr>\n",
       "</table></div></li><li class='xr-var-item'><div class='xr-var-name'><span>T_2M</span></div><div class='xr-var-dims'>(member, y, x)</div><div class='xr-var-dtype'>float32</div><div class='xr-var-preview xr-preview'>dask.array&lt;chunksize=(21, 127, 188), meta=np.ndarray&gt;</div><input id='attrs-e4e723dc-cd4f-4262-b047-a1d3e6b28501' class='xr-var-attrs-in' type='checkbox' ><label for='attrs-e4e723dc-cd4f-4262-b047-a1d3e6b28501' title='Show/Hide attributes'><svg class='icon xr-icon-file-text2'><use xlink:href='#icon-file-text2'></use></svg></label><input id='data-f1b54aa9-9b6b-439e-a1ea-e496fc59b55b' class='xr-var-data-in' type='checkbox'><label for='data-f1b54aa9-9b6b-439e-a1ea-e496fc59b55b' title='Show/Hide data repr'><svg class='icon xr-icon-database'><use xlink:href='#icon-database'></use></svg></label><div class='xr-var-attrs'><dl class='xr-attrs'><dt><span>coordinates :</span></dt><dd>lon_1 lat_1</dd><dt><span>grid_mapping :</span></dt><dd>grid_mapping_1</dd><dt><span>long_name :</span></dt><dd>2m air temperature</dd><dt><span>units :</span></dt><dd>K</dd></dl></div><div class='xr-var-data'><table>\n",
       "<tr>\n",
       "<td>\n",
       "<table>\n",
       "  <thead>\n",
       "    <tr><td> </td><th> Array </th><th> Chunk </th></tr>\n",
       "  </thead>\n",
       "  <tbody>\n",
       "    <tr><th> Bytes </th><td> 2.01 MB </td> <td> 2.01 MB </td></tr>\n",
       "    <tr><th> Shape </th><td> (21, 127, 188) </td> <td> (21, 127, 188) </td></tr>\n",
       "    <tr><th> Count </th><td> 9413 Tasks </td><td> 1 Chunks </td></tr>\n",
       "    <tr><th> Type </th><td> float32 </td><td> numpy.ndarray </td></tr>\n",
       "  </tbody>\n",
       "</table>\n",
       "</td>\n",
       "<td>\n",
       "<svg width=\"203\" height=\"154\" style=\"stroke:rgb(0,0,0);stroke-width:1\" >\n",
       "\n",
       "  <!-- Horizontal lines -->\n",
       "  <line x1=\"10\" y1=\"0\" x2=\"33\" y2=\"23\" style=\"stroke-width:2\" />\n",
       "  <line x1=\"10\" y1=\"81\" x2=\"33\" y2=\"104\" style=\"stroke-width:2\" />\n",
       "\n",
       "  <!-- Vertical lines -->\n",
       "  <line x1=\"10\" y1=\"0\" x2=\"10\" y2=\"81\" style=\"stroke-width:2\" />\n",
       "  <line x1=\"33\" y1=\"23\" x2=\"33\" y2=\"104\" style=\"stroke-width:2\" />\n",
       "\n",
       "  <!-- Colored Rectangle -->\n",
       "  <polygon points=\"10.0,0.0 33.0592848042313,23.059284804231293 33.0592848042313,104.12311459146534 10.0,81.06382978723404\" style=\"fill:#ECB172A0;stroke-width:0\"/>\n",
       "\n",
       "  <!-- Horizontal lines -->\n",
       "  <line x1=\"10\" y1=\"0\" x2=\"130\" y2=\"0\" style=\"stroke-width:2\" />\n",
       "  <line x1=\"33\" y1=\"23\" x2=\"153\" y2=\"23\" style=\"stroke-width:2\" />\n",
       "\n",
       "  <!-- Vertical lines -->\n",
       "  <line x1=\"10\" y1=\"0\" x2=\"33\" y2=\"23\" style=\"stroke-width:2\" />\n",
       "  <line x1=\"130\" y1=\"0\" x2=\"153\" y2=\"23\" style=\"stroke-width:2\" />\n",
       "\n",
       "  <!-- Colored Rectangle -->\n",
       "  <polygon points=\"10.0,0.0 130.0,0.0 153.05928480423128,23.059284804231293 33.0592848042313,23.059284804231293\" style=\"fill:#ECB172A0;stroke-width:0\"/>\n",
       "\n",
       "  <!-- Horizontal lines -->\n",
       "  <line x1=\"33\" y1=\"23\" x2=\"153\" y2=\"23\" style=\"stroke-width:2\" />\n",
       "  <line x1=\"33\" y1=\"104\" x2=\"153\" y2=\"104\" style=\"stroke-width:2\" />\n",
       "\n",
       "  <!-- Vertical lines -->\n",
       "  <line x1=\"33\" y1=\"23\" x2=\"33\" y2=\"104\" style=\"stroke-width:2\" />\n",
       "  <line x1=\"153\" y1=\"23\" x2=\"153\" y2=\"104\" style=\"stroke-width:2\" />\n",
       "\n",
       "  <!-- Colored Rectangle -->\n",
       "  <polygon points=\"33.0592848042313,23.059284804231293 153.0592848042313,23.059284804231293 153.0592848042313,104.12311459146534 33.0592848042313,104.12311459146534\" style=\"fill:#ECB172A0;stroke-width:0\"/>\n",
       "\n",
       "  <!-- Text -->\n",
       "  <text x=\"93.059285\" y=\"124.123115\" font-size=\"1.0rem\" font-weight=\"100\" text-anchor=\"middle\" >188</text>\n",
       "  <text x=\"173.059285\" y=\"63.591200\" font-size=\"1.0rem\" font-weight=\"100\" text-anchor=\"middle\" transform=\"rotate(-90,173.059285,63.591200)\">127</text>\n",
       "  <text x=\"11.529642\" y=\"112.593472\" font-size=\"1.0rem\" font-weight=\"100\" text-anchor=\"middle\" transform=\"rotate(45,11.529642,112.593472)\">21</text>\n",
       "</svg>\n",
       "</td>\n",
       "</tr>\n",
       "</table></div></li></ul></div></li><li class='xr-section-item'><input id='section-f92845bd-bdc1-4c90-944b-11f0b9d90c41' class='xr-section-summary-in' type='checkbox' disabled ><label for='section-f92845bd-bdc1-4c90-944b-11f0b9d90c41' class='xr-section-summary'  title='Expand/collapse section'>Attributes: <span>(0)</span></label><div class='xr-section-inline-details'></div><div class='xr-section-details'><dl class='xr-attrs'></dl></div></li></ul></div></div>"
      ],
      "text/plain": [
       "<xarray.Dataset>\n",
       "Dimensions:   (member: 21, x: 188, y: 127)\n",
       "Coordinates:\n",
       "    lat       (y, x) float32 dask.array<chunksize=(127, 188), meta=np.ndarray>\n",
       "    leadtime  timedelta64[ns] 01:00:00\n",
       "    lon       (y, x) float32 dask.array<chunksize=(127, 188), meta=np.ndarray>\n",
       "  * member    (member) int32 0 1 2 3 4 5 6 7 8 9 ... 12 13 14 15 16 17 18 19 20\n",
       "    reftime   datetime64[ns] 2018-05-01\n",
       "  * x         (x) int64 0 1 2 3 4 5 6 7 8 ... 180 181 182 183 184 185 186 187\n",
       "  * y         (y) int64 0 1 2 3 4 5 6 7 8 ... 119 120 121 122 123 124 125 126\n",
       "    chx       (y, x) float64 4.5e+05 4.522e+05 4.544e+05 ... 8.554e+05 8.577e+05\n",
       "    chy       (y, x) float64 3.944e+04 3.951e+04 3.958e+04 ... 3.33e+05 3.33e+05\n",
       "Data variables:\n",
       "    PREC      (member, y, x) float32 dask.array<chunksize=(21, 127, 188), meta=np.ndarray>\n",
       "    T_2M      (member, y, x) float32 dask.array<chunksize=(21, 127, 188), meta=np.ndarray>"
      ]
     },
     "execution_count": 41,
     "metadata": {},
     "output_type": "execute_result"
    }
   ],
   "source": [
    "import numpy as np\n",
    "# reftime: current time at time of prediction\n",
    "# leadtime: number of hours after prediction time\n",
    "# X, Y: (188, 127)\n",
    "# chx, chy: in swiss coordinates\n",
    "cosmo.isel(member=2, reftime=0, leadtime=1)['reftime']\n",
    "\n",
    "# This is how you select the predictions at the given time\n",
    "cosmo.sel(reftime=target_time - np.timedelta64(1, 'h')).isel(leadtime=1)"
   ]
  },
  {
   "cell_type": "code",
   "execution_count": 20,
   "metadata": {},
   "outputs": [
    {
     "data": {
      "text/plain": [
       "(array(449974.33803416), array(39435.62025801))"
      ]
     },
     "execution_count": 20,
     "metadata": {},
     "output_type": "execute_result"
    }
   ],
   "source": [
    "point = cosmo.isel(member=0, reftime=0, leadtime=1, x=0, y=0)\n",
    "chx, chy = point['chx'], point['chy']\n",
    "chx.values, chy.values"
   ]
  },
  {
   "cell_type": "code",
   "execution_count": 21,
   "metadata": {},
   "outputs": [
    {
     "data": {
      "text/plain": [
       "(array(449500.), array(39500.))"
      ]
     },
     "execution_count": 21,
     "metadata": {},
     "output_type": "execute_result"
    }
   ],
   "source": [
    "real_point = weather.isel(time=0, dummy=0).sel(chx=chx, chy=chy, method='nearest')\n",
    "real_point['chx'].values, real_point['chy'].values"
   ]
  },
  {
   "cell_type": "code",
   "execution_count": 17,
   "metadata": {},
   "outputs": [
    {
     "data": {
      "text/plain": [
       "0.6722591355674581"
      ]
     },
     "execution_count": 17,
     "metadata": {},
     "output_type": "execute_result"
    }
   ],
   "source": [
    "prec_pred = point['PREC'].values\n",
    "prec_real = real_point['RR'].values\n",
    "sklearn.metrics.brier_score_loss([prec_real], [prec_pred])"
   ]
  },
  {
   "cell_type": "markdown",
   "metadata": {
    "collapsed": true
   },
   "source": [
    "### Scoring points"
   ]
  },
  {
   "cell_type": "code",
   "execution_count": 42,
   "metadata": {},
   "outputs": [
    {
     "data": {
      "text/plain": [
       "(21, 127, 188)"
      ]
     },
     "execution_count": 42,
     "metadata": {},
     "output_type": "execute_result"
    }
   ],
   "source": [
    "pred_points = cosmo.sel(reftime=target_time - np.timedelta64(1, 'h')).isel(leadtime=1)\n",
    "chx, chy = pred_points['chx'], pred_points['chy']\n",
    "# This is the grid along which our predictions are placed\n",
    "chx.values, chy.values;\n",
    "# These are the actual predictions (ensemble_cnt, x_len, y_len)\n",
    "pred_points['PREC'].values.shape"
   ]
  },
  {
   "cell_type": "code",
   "execution_count": 43,
   "metadata": {},
   "outputs": [
    {
     "data": {
      "text/plain": [
       "(127, 188)"
      ]
     },
     "execution_count": 43,
     "metadata": {},
     "output_type": "execute_result"
    }
   ],
   "source": [
    "real_points = weather.isel(time=0, dummy=0).sel(chx=chx, chy=chy, method='nearest')\n",
    "# These are the values of the x and y coordinates \n",
    "# of the observations that are closest to our predictions.\n",
    "real_points['chx'].values, real_points['chy'].values;\n",
    "# These are the observations that are closest to our predictions.\n",
    "# Note that the shape is the same as the shape of predictions\n",
    "#  with the ensemble dimension removed.\n",
    "real_points['RR'].values.shape"
   ]
  },
  {
   "cell_type": "code",
   "execution_count": 59,
   "metadata": {},
   "outputs": [
    {
     "name": "stdout",
     "output_type": "stream",
     "text": [
      "(5, 127, 188) (21, 127, 188)\n"
     ]
    }
   ],
   "source": [
    "import numpy as np\n",
    "\n",
    "def mm_to_categorical(values):\n",
    "    \"\"\"Converts a tensor of precipitation values from mm to categorical.\"\"\"\n",
    "    # no rain (< 0.1mm / h), light rain (0.1 - 1 mm/h),  \n",
    "    # rain( 1 - 5 mm/h), heavy rain (5 - 10 mm/h), \n",
    "    # very heavy rain (>= 10 mm/h)\n",
    "    shape = values.shape# + (5,)\n",
    "    y_cat = np.zeros(shape)\n",
    "    y_cat[values < 0.1]                      = 0          # 0 - no rain\n",
    "    y_cat[(0.1 <= values) & (values < 1.0)]  = 1  # 1 - light rain\n",
    "    y_cat[(1.0 <= values) & (values < 5.0)]  = 2  # 2 - rain\n",
    "    y_cat[(5.0 <= values) & (values < 10.0)] = 3  # 3 - heavy rain\n",
    "    y_cat[10.0 <= values]                    = 4  # 4 - very heavy rain\n",
    "    return y_cat\n",
    "\n",
    "def categorical_to_probs(values):\n",
    "    \"\"\"Aggregates a tensor of categorical predictions for an ensemble to probability scores.\n",
    "    The 'ensemble' elements should be placed in the first dimension. \"\"\"\n",
    "    #y_probs = np.sum(values, axis=0) / values.shape[0]\n",
    "    y_probs = np.zeros((5,) + values.shape[1:])\n",
    "    y_probs[0] = (values == 0).sum(axis=0) / values.shape[0]\n",
    "    y_probs[1] = (values == 1).sum(axis=0) / values.shape[0]\n",
    "    y_probs[2] = (values == 2).sum(axis=0) / values.shape[0]\n",
    "    y_probs[3] = (values == 3).sum(axis=0) / values.shape[0]\n",
    "    y_probs[4] = (values == 4).sum(axis=0) / values.shape[0]\n",
    "    return y_probs\n",
    "\n",
    "# These are the predicted classes from the ensemble\n",
    "y_cat = mm_to_categorical(pred_points[\"PREC\"].values)\n",
    "# These are the class probabilities after averaging the ensemble\n",
    "y_probs = categorical_to_probs(y_cat)\n",
    "\n",
    "#assert y_probs.shape == pred_points['PREC'].values.shape[1:]\n",
    "print(y_probs.shape, pred_points['PREC'].values.shape)"
   ]
  },
  {
   "cell_type": "code",
   "execution_count": 60,
   "metadata": {},
   "outputs": [
    {
     "data": {
      "text/plain": [
       "(127, 188)"
      ]
     },
     "execution_count": 60,
     "metadata": {},
     "output_type": "execute_result"
    }
   ],
   "source": [
    "# These are the true classes of the data\n",
    "y_true = mm_to_categorical(real_points[\"RR\"].values)\n",
    "\n",
    "#assert y_true.shape == y_probs.shape\n",
    "y_true.shape"
   ]
  },
  {
   "cell_type": "code",
   "execution_count": 61,
   "metadata": {},
   "outputs": [
    {
     "data": {
      "text/plain": [
       "array([[0.14512472, 0.14512472, 0.14512472, ..., 0.        , 0.        ,\n",
       "        0.        ],\n",
       "       [0.05668934, 0.05668934, 0.05668934, ..., 0.        , 0.        ,\n",
       "        0.        ],\n",
       "       [0.00907029, 0.00907029, 0.03628118, ..., 0.        , 0.        ,\n",
       "        0.        ],\n",
       "       ...,\n",
       "       [0.        , 0.        , 0.        , ..., 0.02040816, 0.05668934,\n",
       "        0.11111111],\n",
       "       [0.        , 0.        , 0.        , ..., 0.02040816, 0.03628118,\n",
       "        0.08163265],\n",
       "       [0.        , 0.        , 0.        , ..., 0.02040816, 0.02040816,\n",
       "        0.08163265]])"
      ]
     },
     "execution_count": 61,
     "metadata": {},
     "output_type": "execute_result"
    }
   ],
   "source": [
    "# I don't understand this metric anyway\n",
    "ps.threshold_brier_score(\n",
    "    forecasts=pred_points['PREC'].values.swapaxes(0,-1), \n",
    "    observations=real_points['RR'].values.swapaxes(0,1), \n",
    "    threshold=0.1)"
   ]
  },
  {
   "cell_type": "code",
   "execution_count": 69,
   "metadata": {},
   "outputs": [
    {
     "data": {
      "text/plain": [
       "array([[1., 1., 1., ..., 0., 0., 0.],\n",
       "       [1., 1., 1., ..., 0., 0., 0.],\n",
       "       [1., 1., 1., ..., 0., 0., 0.],\n",
       "       ...,\n",
       "       [0., 0., 0., ..., 0., 0., 0.],\n",
       "       [0., 0., 0., ..., 0., 0., 0.],\n",
       "       [0., 0., 0., ..., 0., 0., 0.]])"
      ]
     },
     "execution_count": 69,
     "metadata": {},
     "output_type": "execute_result"
    }
   ],
   "source": [
    "np.max(y_probs)\n",
    "y_true"
   ]
  },
  {
   "cell_type": "code",
   "execution_count": 78,
   "metadata": {},
   "outputs": [],
   "source": [
    "scores_0 = ps.brier_score(\n",
    "    observations=(y_true == 0),\n",
    "    forecasts=y_probs[0]\n",
    ")\n",
    "scores_1 = ps.brier_score(\n",
    "    observations=(y_true == 1),\n",
    "    forecasts=y_probs[1]\n",
    ")\n",
    "scores_2 = ps.brier_score(\n",
    "    observations=(y_true == 2),\n",
    "    forecasts=y_probs[2]\n",
    ")\n",
    "scores_3 = ps.brier_score(\n",
    "    observations=(y_true == 3),\n",
    "    forecasts=y_probs[3]\n",
    ")\n",
    "scores_4 = ps.brier_score(\n",
    "    observations=(y_true == 4),\n",
    "    forecasts=y_probs[4]\n",
    ")"
   ]
  },
  {
   "cell_type": "code",
   "execution_count": 79,
   "metadata": {},
   "outputs": [
    {
     "name": "stdout",
     "output_type": "stream",
     "text": [
      "0.1566902351491778\n",
      "0.16221224626556938\n",
      "0.012073433829889804\n",
      "0.0\n",
      "0.0\n"
     ]
    }
   ],
   "source": [
    "print(np.mean(scores_0))\n",
    "print(np.mean(scores_1))\n",
    "print(np.mean(scores_2))\n",
    "print(np.mean(scores_3))\n",
    "print(np.mean(scores_4))"
   ]
  },
  {
   "cell_type": "code",
   "execution_count": 85,
   "metadata": {},
   "outputs": [
    {
     "data": {
      "text/plain": [
       "array([[3.4804143e-02, 4.1138113e-02, 4.6714008e-02, ..., 0.0000000e+00,\n",
       "        0.0000000e+00, 0.0000000e+00],\n",
       "       [3.7841477e-02, 3.5892360e-02, 3.0757539e-02, ..., 0.0000000e+00,\n",
       "        0.0000000e+00, 0.0000000e+00],\n",
       "       [3.7582420e-02, 4.1687779e-02, 3.9029367e-02, ..., 0.0000000e+00,\n",
       "        0.0000000e+00, 0.0000000e+00],\n",
       "       ...,\n",
       "       [8.7207183e-05, 1.0465225e-04, 1.0727538e-04, ..., 2.3547003e-02,\n",
       "        2.3161970e-02, 2.3381434e-02],\n",
       "       [9.4730000e-05, 1.1060404e-04, 1.2209953e-04, ..., 2.3725372e-02,\n",
       "        2.2983387e-02, 2.3153739e-02],\n",
       "       [1.0423706e-04, 1.2210652e-04, 1.4253589e-04, ..., 2.5853392e-02,\n",
       "        2.4627328e-02, 2.4140213e-02]], dtype=float32)"
      ]
     },
     "execution_count": 85,
     "metadata": {},
     "output_type": "execute_result"
    }
   ],
   "source": [
    "ps.crps_ensemble?\n",
    "ps.crps_ensemble(\n",
    "    forecasts=pred_points['PREC'].values,\n",
    "    observations=real_points['RR'].values,\n",
    "    axis=0\n",
    ")"
   ]
  },
  {
   "cell_type": "code",
   "execution_count": 84,
   "metadata": {},
   "outputs": [
    {
     "data": {
      "text/plain": [
       "((21, 127, 188), (127, 188))"
      ]
     },
     "execution_count": 84,
     "metadata": {},
     "output_type": "execute_result"
    }
   ],
   "source": [
    "pred_points['PREC'].values.shape, real_points['RR'].values.shape"
   ]
  },
  {
   "cell_type": "code",
   "execution_count": 94,
   "metadata": {},
   "outputs": [
    {
     "name": "stdout",
     "output_type": "stream",
     "text": [
      "Pysteps configuration file found at: /home/mzilinec/.local/lib/python3.6/site-packages/pysteps/pystepsrc\n",
      "\n"
     ]
    }
   ],
   "source": [
    "from datetime import datetime\n",
    "import matplotlib.pyplot as plt\n",
    "import numpy as np\n",
    "from pprint import pprint\n",
    "from pysteps import io, nowcasts, rcparams, verification\n",
    "from pysteps.motion.lucaskanade import dense_lucaskanade\n",
    "from pysteps.postprocessing import ensemblestats\n",
    "from pysteps.utils import conversion, dimension, transformation\n",
    "from pysteps.visualization import plot_precip_field"
   ]
  },
  {
   "cell_type": "code",
   "execution_count": 97,
   "metadata": {},
   "outputs": [
    {
     "ename": "IndexError",
     "evalue": "too many indices for array: array is 2-dimensional, but 3 were indexed",
     "output_type": "error",
     "traceback": [
      "\u001b[0;31m---------------------------------------------------------------------------\u001b[0m",
      "\u001b[0;31mIndexError\u001b[0m                                Traceback (most recent call last)",
      "\u001b[0;32m<ipython-input-97-fc79cd689815>\u001b[0m in \u001b[0;36m<module>\u001b[0;34m\u001b[0m\n\u001b[1;32m      1\u001b[0m \u001b[0mreldiag\u001b[0m \u001b[0;34m=\u001b[0m \u001b[0mverification\u001b[0m\u001b[0;34m.\u001b[0m\u001b[0mreldiag_init\u001b[0m\u001b[0;34m(\u001b[0m\u001b[0;36m0.1\u001b[0m\u001b[0;34m)\u001b[0m\u001b[0;34m\u001b[0m\u001b[0;34m\u001b[0m\u001b[0m\n\u001b[0;32m----> 2\u001b[0;31m \u001b[0mverification\u001b[0m\u001b[0;34m.\u001b[0m\u001b[0mreldiag_accum\u001b[0m\u001b[0;34m(\u001b[0m\u001b[0mreldiag\u001b[0m\u001b[0;34m,\u001b[0m \u001b[0mpred_points\u001b[0m\u001b[0;34m[\u001b[0m\u001b[0;34m'PREC'\u001b[0m\u001b[0;34m]\u001b[0m\u001b[0;34m.\u001b[0m\u001b[0mvalues\u001b[0m\u001b[0;34m,\u001b[0m \u001b[0mreal_points\u001b[0m\u001b[0;34m[\u001b[0m\u001b[0;34m'RR'\u001b[0m\u001b[0;34m]\u001b[0m\u001b[0;34m.\u001b[0m\u001b[0mvalues\u001b[0m\u001b[0;34m)\u001b[0m\u001b[0;34m\u001b[0m\u001b[0;34m\u001b[0m\u001b[0m\n\u001b[0m\u001b[1;32m      3\u001b[0m \u001b[0mfig\u001b[0m\u001b[0;34m,\u001b[0m \u001b[0max\u001b[0m \u001b[0;34m=\u001b[0m \u001b[0mplt\u001b[0m\u001b[0;34m.\u001b[0m\u001b[0msubplots\u001b[0m\u001b[0;34m(\u001b[0m\u001b[0;34m)\u001b[0m\u001b[0;34m\u001b[0m\u001b[0;34m\u001b[0m\u001b[0m\n\u001b[1;32m      4\u001b[0m \u001b[0mverification\u001b[0m\u001b[0;34m.\u001b[0m\u001b[0mplot_reldiag\u001b[0m\u001b[0;34m(\u001b[0m\u001b[0mreldiag\u001b[0m\u001b[0;34m,\u001b[0m \u001b[0max\u001b[0m\u001b[0;34m)\u001b[0m\u001b[0;34m\u001b[0m\u001b[0;34m\u001b[0m\u001b[0m\n\u001b[1;32m      5\u001b[0m \u001b[0max\u001b[0m\u001b[0;34m.\u001b[0m\u001b[0mset_title\u001b[0m\u001b[0;34m(\u001b[0m\u001b[0;34m\"Reliability diagram (+%i min)\"\u001b[0m \u001b[0;34m%\u001b[0m \u001b[0;34m(\u001b[0m\u001b[0mn_leadtimes\u001b[0m \u001b[0;34m*\u001b[0m \u001b[0mtimestep\u001b[0m\u001b[0;34m)\u001b[0m\u001b[0;34m)\u001b[0m\u001b[0;34m\u001b[0m\u001b[0;34m\u001b[0m\u001b[0m\n",
      "\u001b[0;32m~/.local/lib/python3.6/site-packages/pysteps/verification/probscores.py\u001b[0m in \u001b[0;36mreldiag_accum\u001b[0;34m(reldiag, P_f, X_o)\u001b[0m\n\u001b[1;32m    233\u001b[0m \u001b[0;34m\u001b[0m\u001b[0m\n\u001b[1;32m    234\u001b[0m     \u001b[0mP_f\u001b[0m \u001b[0;34m=\u001b[0m \u001b[0mP_f\u001b[0m\u001b[0;34m[\u001b[0m\u001b[0mmask\u001b[0m\u001b[0;34m]\u001b[0m\u001b[0;34m\u001b[0m\u001b[0;34m\u001b[0m\u001b[0m\n\u001b[0;32m--> 235\u001b[0;31m     \u001b[0mX_o\u001b[0m \u001b[0;34m=\u001b[0m \u001b[0mX_o\u001b[0m\u001b[0;34m[\u001b[0m\u001b[0mmask\u001b[0m\u001b[0;34m]\u001b[0m\u001b[0;34m\u001b[0m\u001b[0;34m\u001b[0m\u001b[0m\n\u001b[0m\u001b[1;32m    236\u001b[0m \u001b[0;34m\u001b[0m\u001b[0m\n\u001b[1;32m    237\u001b[0m     \u001b[0midx\u001b[0m \u001b[0;34m=\u001b[0m \u001b[0mnp\u001b[0m\u001b[0;34m.\u001b[0m\u001b[0mdigitize\u001b[0m\u001b[0;34m(\u001b[0m\u001b[0mP_f\u001b[0m\u001b[0;34m,\u001b[0m \u001b[0mreldiag\u001b[0m\u001b[0;34m[\u001b[0m\u001b[0;34m\"bin_edges\"\u001b[0m\u001b[0;34m]\u001b[0m\u001b[0;34m,\u001b[0m \u001b[0mright\u001b[0m\u001b[0;34m=\u001b[0m\u001b[0;32mTrue\u001b[0m\u001b[0;34m)\u001b[0m\u001b[0;34m\u001b[0m\u001b[0;34m\u001b[0m\u001b[0m\n",
      "\u001b[0;31mIndexError\u001b[0m: too many indices for array: array is 2-dimensional, but 3 were indexed"
     ]
    }
   ],
   "source": [
    "reldiag = verification.reldiag_init(0.1)\n",
    "verification.reldiag_accum(reldiag, pred_points['PREC'].values, real_points['RR'].values)\n",
    "fig, ax = plt.subplots()\n",
    "verification.plot_reldiag(reldiag, ax)\n",
    "ax.set_title(\"Reliability diagram (+%i min)\" % (n_leadtimes * timestep))\n",
    "plt.show()"
   ]
  },
  {
   "cell_type": "code",
   "execution_count": 96,
   "metadata": {
    "collapsed": true
   },
   "outputs": [],
   "source": [
    "verification.reldiag_accum?"
   ]
  },
  {
   "cell_type": "code",
   "execution_count": 99,
   "metadata": {
    "collapsed": true
   },
   "outputs": [],
   "source": [
    "from pysteps.postprocessing import ensemblestats\n",
    "from pysteps import verification"
   ]
  },
  {
   "cell_type": "code",
   "execution_count": 106,
   "metadata": {},
   "outputs": [
    {
     "data": {
      "text/plain": [
       "(127, 188)"
      ]
     },
     "execution_count": 106,
     "metadata": {},
     "output_type": "execute_result"
    }
   ],
   "source": [
    "probs = ensemblestats.excprob(pred_points.PREC, 0.1, ignore_nan=True)\n",
    "probs.shape"
   ]
  },
  {
   "cell_type": "code",
   "execution_count": 108,
   "metadata": {},
   "outputs": [
    {
     "name": "stderr",
     "output_type": "stream",
     "text": [
      "/home/mzilinec/.local/lib/python3.6/site-packages/pysteps/verification/plots.py:159: MatplotlibDeprecationWarning: The 'basey' parameter of __init__() has been renamed 'base' since Matplotlib 3.3; support for the old name will be dropped two minor releases later.\n",
      "  iax.set_yscale(\"log\", basey=10)\n"
     ]
    },
    {
     "data": {
      "image/png": "[encoded data removed]",
      "text/plain": [
       "<Figure size 432x288 with 2 Axes>"
      ]
     },
     "metadata": {
      "needs_background": "light"
     },
     "output_type": "display_data"
    }
   ],
   "source": [
    "reldiag = verification.reldiag_init(0.1)\n",
    "verification.reldiag_accum(reldiag, probs, real_points.RR.values)\n",
    "fig, ax = plt.subplots()\n",
    "verification.plot_reldiag(reldiag, ax)\n",
    "ax.set_title(\"Reliability diagram (+1 hour)\")\n",
    "plt.show()"
   ]
  },
  {
   "cell_type": "code",
   "execution_count": null,
   "metadata": {
    "collapsed": true
   },
   "outputs": [],
   "source": []
  }
 ],
 "metadata": {
  "kernelspec": {
   "display_name": "python3.6",
   "language": "python",
   "name": "python3.6"
  },
  "language_info": {
   "codemirror_mode": {
    "name": "ipython",
    "version": 3
   },
   "file_extension": ".py",
   "mimetype": "text/x-python",
   "name": "python",
   "nbconvert_exporter": "python",
   "pygments_lexer": "ipython3",
   "version": "3.6.10"
  }
 },
 "nbformat": 4,
 "nbformat_minor": 4
}
